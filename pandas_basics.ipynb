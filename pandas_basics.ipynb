{
  "nbformat": 4,
  "nbformat_minor": 0,
  "metadata": {
    "colab": {
      "provenance": [],
      "authorship_tag": "ABX9TyMLRU7M0oOnJQtUSLRbZh5N",
      "include_colab_link": true
    },
    "kernelspec": {
      "name": "python3",
      "display_name": "Python 3"
    },
    "language_info": {
      "name": "python"
    }
  },
  "cells": [
    {
      "cell_type": "markdown",
      "metadata": {
        "id": "view-in-github",
        "colab_type": "text"
      },
      "source": [
        "<a href=\"https://colab.research.google.com/github/Shalinib6/pandas_basics/blob/main/pandas_basics.ipynb\" target=\"_parent\"><img src=\"https://colab.research.google.com/assets/colab-badge.svg\" alt=\"Open In Colab\"/></a>"
      ]
    },
    {
      "cell_type": "code",
      "execution_count": 1,
      "metadata": {
        "colab": {
          "base_uri": "https://localhost:8080/"
        },
        "id": "NcSGdkine-z0",
        "outputId": "df4b6bdd-8eb3-4161-ad77-978fd7e36114"
      },
      "outputs": [
        {
          "output_type": "stream",
          "name": "stdout",
          "text": [
            "Mounted at /content/drive\n"
          ]
        }
      ],
      "source": [
        "import os\n",
        "\n",
        "# Create a folder\n",
        "os.makedirs(\"my_folder\", exist_ok=True)\n",
        "\n",
        "# Save a file in that folder\n",
        "with open(\"my_folder/sample.txt\", \"w\") as f:\n",
        "    f.write(\"Hello from Colab!\")\n",
        "from google.colab import drive\n",
        "drive.mount('/content/drive')\n",
        "\n",
        "\n"
      ]
    },
    {
      "cell_type": "code",
      "source": [
        "#creating pandas basics\n",
        "#1.dataframe\n",
        "import pandas as pd\n",
        "\n",
        "A = {\n",
        "    'Name': ['Alice', 'Bob', 'Charlie'],\n",
        "    'Age': [25, 30, 35],\n",
        "    'Marks': [85, 70, 90]\n",
        "}\n",
        "\n",
        "B = pd.DataFrame(A)\n",
        "print(B)\n",
        "#2.series\n",
        "C=pd.Series([10,20,30,40,50])\n",
        "print(C)"
      ],
      "metadata": {
        "colab": {
          "base_uri": "https://localhost:8080/"
        },
        "id": "_6W3mudjPGr2",
        "outputId": "6dcd1a21-08b7-42f6-ed58-2654dae92818"
      },
      "execution_count": 1,
      "outputs": [
        {
          "output_type": "stream",
          "name": "stdout",
          "text": [
            "      Name  Age  Marks\n",
            "0    Alice   25     85\n",
            "1      Bob   30     70\n",
            "2  Charlie   35     90\n",
            "0    10\n",
            "1    20\n",
            "2    30\n",
            "3    40\n",
            "4    50\n",
            "dtype: int64\n"
          ]
        }
      ]
    },
    {
      "cell_type": "code",
      "source": [
        "import pandas as pd\n",
        "\n",
        "data = {\n",
        "    'Name': ['Alice', 'Bob', 'Charlie'],\n",
        "    'Age': [20, 22, 21],\n",
        "    'Marks': [85, 70, 90]\n",
        "}\n",
        "\n",
        "df = pd.DataFrame(data)\n",
        "\n",
        "df.to_csv('students.csv', index=False)\n",
        "df_loaded = pd.read_csv('students.csv')\n",
        "print(df_loaded)\n",
        "print(df_loaded[df_loaded['Marks'] > 80])\n"
      ],
      "metadata": {
        "colab": {
          "base_uri": "https://localhost:8080/"
        },
        "id": "g3oKTSjq-zWk",
        "outputId": "23ee7c46-c833-43f5-f224-7fa58f762d3e"
      },
      "execution_count": 5,
      "outputs": [
        {
          "output_type": "stream",
          "name": "stdout",
          "text": [
            "      Name  Age  Marks\n",
            "0    Alice   20     85\n",
            "1      Bob   22     70\n",
            "2  Charlie   21     90\n",
            "      Name  Age  Marks\n",
            "0    Alice   20     85\n",
            "2  Charlie   21     90\n"
          ]
        }
      ]
    },
    {
      "cell_type": "code",
      "source": [
        "import pandas as pd\n",
        "data={\n",
        "    'Name':['Alice','Bob','Charlie'],\n",
        "    'Age':[25,30,35],\n",
        "    'Salary':[85000,95000,50000]\n",
        "\n",
        "}\n",
        "df=pd.DataFrame(data)\n",
        "print(df)\n",
        "df.to_csv('employee.csv',index=False)\n",
        "df_loaded=pd.read_csv('employee.csv')\n",
        "print(df_loaded)\n",
        "print(df_loaded[df_loaded['Salary']>80000])"
      ],
      "metadata": {
        "colab": {
          "base_uri": "https://localhost:8080/"
        },
        "id": "AXtwp-C1_yAF",
        "outputId": "008d686b-14eb-4810-f3cd-9a4b811e2b11"
      },
      "execution_count": 7,
      "outputs": [
        {
          "output_type": "stream",
          "name": "stdout",
          "text": [
            "      Name  Age  Salary\n",
            "0    Alice   25   85000\n",
            "1      Bob   30   95000\n",
            "2  Charlie   35   50000\n",
            "      Name  Age  Salary\n",
            "0    Alice   25   85000\n",
            "1      Bob   30   95000\n",
            "2  Charlie   35   50000\n",
            "    Name  Age  Salary\n",
            "0  Alice   25   85000\n",
            "1    Bob   30   95000\n"
          ]
        }
      ]
    },
    {
      "cell_type": "code",
      "source": [
        "import pandas as pd\n",
        "data={\n",
        "    'Name':['Alice','Bob','Charlie','Dome','emilie','fazzie'],\n",
        "    'Age':[25,30,35,45,46,36],\n",
        "    'Salary':[85000,95000,50000,70000,40000,60000],\n",
        "    'Department':['IT','HR','Finance','tester','Developer','HR'],\n",
        "    'Designation':['Manager','Assistant','Clerk','employee','Manager','Worker']\n",
        "\n",
        "}\n",
        "df=pd.DataFrame(data)\n",
        "df.to_csv('employee.csv',index=False)\n",
        "df_loaded=pd.read_csv('employee.csv')\n",
        "print(df_loaded)\n",
        "print(df_loaded.head())\n",
        "print(df_loaded.tail())\n",
        "print(df_loaded['Name']) #----->This is series hence it give its date type\n",
        "print(df_loaded.loc[0]) #---->Accessing a row by its index\n",
        "print(df_loaded.loc[0:2])\n",
        "df_loaded['Grade']=['A','B','C','D','E','F']\n",
        "print(df_loaded)\n",
        "print(df_loaded.describe())\n"
      ],
      "metadata": {
        "colab": {
          "base_uri": "https://localhost:8080/"
        },
        "id": "5-gGwcCNA2OE",
        "outputId": "4b416504-5bf7-470b-f01d-3e6415721bee"
      },
      "execution_count": 22,
      "outputs": [
        {
          "output_type": "stream",
          "name": "stdout",
          "text": [
            "      Name  Age  Salary Department Designation\n",
            "0    Alice   25   85000         IT     Manager\n",
            "1      Bob   30   95000         HR   Assistant\n",
            "2  Charlie   35   50000    Finance       Clerk\n",
            "3     Dome   45   70000     tester    employee\n",
            "4   emilie   46   40000  Developer     Manager\n",
            "5   fazzie   36   60000         HR      Worker\n",
            "      Name  Age  Salary Department Designation\n",
            "0    Alice   25   85000         IT     Manager\n",
            "1      Bob   30   95000         HR   Assistant\n",
            "2  Charlie   35   50000    Finance       Clerk\n",
            "3     Dome   45   70000     tester    employee\n",
            "4   emilie   46   40000  Developer     Manager\n",
            "      Name  Age  Salary Department Designation\n",
            "1      Bob   30   95000         HR   Assistant\n",
            "2  Charlie   35   50000    Finance       Clerk\n",
            "3     Dome   45   70000     tester    employee\n",
            "4   emilie   46   40000  Developer     Manager\n",
            "5   fazzie   36   60000         HR      Worker\n",
            "0      Alice\n",
            "1        Bob\n",
            "2    Charlie\n",
            "3       Dome\n",
            "4     emilie\n",
            "5     fazzie\n",
            "Name: Name, dtype: object\n",
            "Name             Alice\n",
            "Age                 25\n",
            "Salary           85000\n",
            "Department          IT\n",
            "Designation    Manager\n",
            "Name: 0, dtype: object\n",
            "      Name  Age  Salary Department Designation\n",
            "0    Alice   25   85000         IT     Manager\n",
            "1      Bob   30   95000         HR   Assistant\n",
            "2  Charlie   35   50000    Finance       Clerk\n",
            "      Name  Age  Salary Department Designation Grade\n",
            "0    Alice   25   85000         IT     Manager     A\n",
            "1      Bob   30   95000         HR   Assistant     B\n",
            "2  Charlie   35   50000    Finance       Clerk     C\n",
            "3     Dome   45   70000     tester    employee     D\n",
            "4   emilie   46   40000  Developer     Manager     E\n",
            "5   fazzie   36   60000         HR      Worker     F\n",
            "             Age        Salary\n",
            "count   6.000000      6.000000\n",
            "mean   36.166667  66666.666667\n",
            "std     8.232051  20896.570692\n",
            "min    25.000000  40000.000000\n",
            "25%    31.250000  52500.000000\n",
            "50%    35.500000  65000.000000\n",
            "75%    42.750000  81250.000000\n",
            "max    46.000000  95000.000000\n"
          ]
        }
      ]
    },
    {
      "cell_type": "code",
      "source": [
        "#Now its time explore visualization using matplotlib\n",
        "import pandas as pd\n",
        "import matplotlib.pyplot as plt\n",
        "data={\n",
        "    'Name':['Shalini','Saghana','Tamil'],\n",
        "    'Id':[19,21,48],\n",
        "    'Salary':[85000,95000,50000],\n",
        "    'Gender':['Female','Female','Female'],\n",
        "    'Department':['IT','HR','Finance'],\n",
        "    'Designation':['Manager','Assistant','Clerk']\n",
        "\n",
        "}\n",
        "df=pd.DataFrame(data)\n",
        "df.to_csv('employee.csv',index=False)\n",
        "df_loaded=pd.read_csv('employee.csv')\n",
        "print(df_loaded)\n",
        "plt.plot(df_loaded['Id'],df_loaded['Salary'])\n",
        "plt.show()"
      ],
      "metadata": {
        "colab": {
          "base_uri": "https://localhost:8080/",
          "height": 499
        },
        "id": "WQtqzrt4NrtI",
        "outputId": "075962f1-3269-4843-a028-fd863f5edd58"
      },
      "execution_count": 26,
      "outputs": [
        {
          "output_type": "stream",
          "name": "stdout",
          "text": [
            "      Name  Id  Salary  Gender Department Designation\n",
            "0  Shalini  19   85000  Female         IT     Manager\n",
            "1  Saghana  21   95000  Female         HR   Assistant\n",
            "2    Tamil  48   50000  Female    Finance       Clerk\n"
          ]
        },
        {
          "output_type": "display_data",
          "data": {
            "text/plain": [
              "<Figure size 640x480 with 1 Axes>"
            ],
            "image/png": "[encoded data removed]"
          },
          "metadata": {}
        }
      ]
    },
    {
      "cell_type": "code",
      "source": [
        "import pandas as pd\n",
        "import matplotlib.pyplot as plt\n",
        "data={\n",
        "    'Name':['Shalini','Saghana','Tamil'],\n",
        "    'Id':[19,21,48],\n",
        "    'Salary':[85000,95000,50000],\n",
        "    'Gender':['Female','Female','Female'],\n",
        "    'Department':['IT','HR','Finance'],\n",
        "    'Designation':['Manager','Assistant','Clerk']\n",
        "\n",
        "}\n",
        "df=pd.DataFrame(data)\n",
        "df.to_csv('employee.csv',index=False)\n",
        "df_loaded=pd.read_csv('employee.csv')\n",
        "print(df_loaded)\n",
        "plt.bar(df_loaded['Id'],df_loaded['Salary'])\n",
        "plt.show()"
      ],
      "metadata": {
        "colab": {
          "base_uri": "https://localhost:8080/",
          "height": 499
        },
        "id": "feU3I9LvQnDw",
        "outputId": "e9e98028-de78-4c96-980d-1d2703816cba"
      },
      "execution_count": 27,
      "outputs": [
        {
          "output_type": "stream",
          "name": "stdout",
          "text": [
            "      Name  Id  Salary  Gender Department Designation\n",
            "0  Shalini  19   85000  Female         IT     Manager\n",
            "1  Saghana  21   95000  Female         HR   Assistant\n",
            "2    Tamil  48   50000  Female    Finance       Clerk\n"
          ]
        },
        {
          "output_type": "display_data",
          "data": {
            "text/plain": [
              "<Figure size 640x480 with 1 Axes>"
            ],
            "image/png": "[encoded data removed]"
          },
          "metadata": {}
        }
      ]
    },
    {
      "cell_type": "code",
      "source": [
        "import pandas as pd\n",
        "import matplotlib.pyplot as plt\n",
        "data={\n",
        "    'Name':['Shalini','Saghana','Tamil'],\n",
        "    'Id':[19,21,48],\n",
        "    'Salary':[85000,95000,50000],\n",
        "    'Gender':['Female','Female','Female'],\n",
        "    'Department':['IT','HR','Finance'],\n",
        "    'Designation':['Manager','Assistant','Clerk']\n",
        "\n",
        "}\n",
        "df=pd.DataFrame(data)\n",
        "df.to_csv('employee.csv',index=False)\n",
        "df_loaded=pd.read_csv('employee.csv')\n",
        "print(df_loaded)\n",
        "plt.barh(df_loaded['Id'],df_loaded['Salary'])\n",
        "plt.show()"
      ],
      "metadata": {
        "colab": {
          "base_uri": "https://localhost:8080/",
          "height": 499
        },
        "id": "8s461SSeRGYI",
        "outputId": "80d49eb4-a8db-4719-f054-ef011473630c"
      },
      "execution_count": 28,
      "outputs": [
        {
          "output_type": "stream",
          "name": "stdout",
          "text": [
            "      Name  Id  Salary  Gender Department Designation\n",
            "0  Shalini  19   85000  Female         IT     Manager\n",
            "1  Saghana  21   95000  Female         HR   Assistant\n",
            "2    Tamil  48   50000  Female    Finance       Clerk\n"
          ]
        },
        {
          "output_type": "display_data",
          "data": {
            "text/plain": [
              "<Figure size 640x480 with 1 Axes>"
            ],
            "image/png": "[encoded data removed]"
          },
          "metadata": {}
        }
      ]
    },
    {
      "cell_type": "code",
      "source": [
        "import pandas as pd\n",
        "import matplotlib.pyplot as plt\n",
        "data={\n",
        "    'Name':['Shalini','Saghana','Tamil'],\n",
        "    'Id':[19,21,48],\n",
        "    'Salary':[85000,95000,50000],\n",
        "    'Gender':['Female','Female','Female'],\n",
        "    'Department':['IT','HR','Finance'],\n",
        "    'Designation':['Manager','Assistant','Clerk']\n",
        "\n",
        "}\n",
        "df=pd.DataFrame(data)\n",
        "df.to_csv('employee.csv',index=False)\n",
        "df_loaded=pd.read_csv('employee.csv')\n",
        "print(df_loaded)\n",
        "plt.pie(df_loaded['Salary'], labels=df_loaded['Name'], autopct='%1.1f%%')"
      ],
      "metadata": {
        "colab": {
          "base_uri": "https://localhost:8080/",
          "height": 632
        },
        "id": "B0KPLYe3R08a",
        "outputId": "f4bad373-d62c-4320-aa29-8e6b31540938"
      },
      "execution_count": 30,
      "outputs": [
        {
          "output_type": "stream",
          "name": "stdout",
          "text": [
            "      Name  Id  Salary  Gender Department Designation\n",
            "0  Shalini  19   85000  Female         IT     Manager\n",
            "1  Saghana  21   95000  Female         HR   Assistant\n",
            "2    Tamil  48   50000  Female    Finance       Clerk\n"
          ]
        },
        {
          "output_type": "execute_result",
          "data": {
            "text/plain": [
              "([<matplotlib.patches.Wedge at 0x7f2367c4ac50>,\n",
              "  <matplotlib.patches.Wedge at 0x7f236764fdd0>,\n",
              "  <matplotlib.patches.Wedge at 0x7f2367696150>],\n",
              " [Text(0.4382411923804017, 1.0089324344578303, 'Shalini'),\n",
              "  Text(-0.9766737443504045, -0.5060715335765892, 'Saghana'),\n",
              "  Text(0.8532826358997754, -0.6941964731053678, 'Tamil')],\n",
              " [Text(0.23904065038931, 0.5503267824315438, '37.0%'),\n",
              "  Text(-0.5327311332820388, -0.27603901831450317, '41.3%'),\n",
              "  Text(0.4654268923089683, -0.37865262169383695, '21.7%')])"
            ]
          },
          "metadata": {},
          "execution_count": 30
        },
        {
          "output_type": "display_data",
          "data": {
            "text/plain": [
              "<Figure size 640x480 with 1 Axes>"
            ],
            "image/png": "[encoded data removed]"
          },
          "metadata": {}
        }
      ]
    },
    {
      "cell_type": "code",
      "source": [
        "import pandas as pd\n",
        "import matplotlib.pyplot as plt\n",
        "data={\n",
        "    'Name':['Shalini','Saghana','Tamil'],\n",
        "    'Id':[19,21,48],\n",
        "    'Salary':[85000,95000,50000],\n",
        "    'Gender':['Female','Female','Female'],\n",
        "    'Department':['IT','HR','Finance'],\n",
        "    'Designation':['Manager','Assistant','Clerk']\n",
        "\n",
        "}\n",
        "df=pd.DataFrame(data)\n",
        "df.to_csv('employee.csv',index=False)\n",
        "df_loaded=pd.read_csv('employee.csv')\n",
        "print(df_loaded)\n",
        "plt.scatter(df_loaded['Id'],df_loaded['Salary'])\n",
        "plt.xlabel(\"Id\")\n",
        "plt.ylabel(\"Salary\")\n",
        "plt.show()"
      ],
      "metadata": {
        "colab": {
          "base_uri": "https://localhost:8080/",
          "height": 518
        },
        "id": "HpLLjN6cUDU_",
        "outputId": "4ef0a034-c67d-43b7-bcde-ed3171f286a5"
      },
      "execution_count": 37,
      "outputs": [
        {
          "output_type": "stream",
          "name": "stdout",
          "text": [
            "      Name  Id  Salary  Gender Department Designation\n",
            "0  Shalini  19   85000  Female         IT     Manager\n",
            "1  Saghana  21   95000  Female         HR   Assistant\n",
            "2    Tamil  48   50000  Female    Finance       Clerk\n"
          ]
        },
        {
          "output_type": "display_data",
          "data": {
            "text/plain": [
              "<Figure size 640x480 with 1 Axes>"
            ],
            "image/png": "[encoded data removed]"
          },
          "metadata": {}
        }
      ]
    },
    {
      "cell_type": "code",
      "source": [
        "import pandas as pd\n",
        "import matplotlib.pyplot as plt\n",
        "data={\n",
        "    'Name':['Shalini','Saghana','Tamil'],\n",
        "    'Id':[19,21,48],\n",
        "    'Salary':[85000,95000,50000],\n",
        "    'Gender':['Female','Female','Female'],\n",
        "    'Department':['IT','HR','Finance'],\n",
        "    'Designation':['Manager','Assistant','Clerk']\n",
        "\n",
        "}\n",
        "df=pd.DataFrame(data)\n",
        "df.to_csv('employee.csv',index=False)\n",
        "df_loaded=pd.read_csv('employee.csv')\n",
        "print(df_loaded)\n",
        "plt.hist(df_loaded['Salary'],bins=10)\n",
        "plt.grid(True)\n",
        "plt.show()"
      ],
      "metadata": {
        "colab": {
          "base_uri": "https://localhost:8080/",
          "height": 499
        },
        "id": "uGEY4ahyURsM",
        "outputId": "f5d38a8a-9b98-4de4-aa15-1d03ab3968a4"
      },
      "execution_count": 38,
      "outputs": [
        {
          "output_type": "stream",
          "name": "stdout",
          "text": [
            "      Name  Id  Salary  Gender Department Designation\n",
            "0  Shalini  19   85000  Female         IT     Manager\n",
            "1  Saghana  21   95000  Female         HR   Assistant\n",
            "2    Tamil  48   50000  Female    Finance       Clerk\n"
          ]
        },
        {
          "output_type": "display_data",
          "data": {
            "text/plain": [
              "<Figure size 640x480 with 1 Axes>"
            ],
            "image/png": "[encoded data removed]"
          },
          "metadata": {}
        }
      ]
    }
  ]
}