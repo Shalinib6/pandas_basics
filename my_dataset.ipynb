{
  "nbformat": 4,
  "nbformat_minor": 0,
  "metadata": {
    "colab": {
      "provenance": [],
      "authorship_tag": "ABX9TyNiDeGJMHQWiWfbR0FDZyma",
      "include_colab_link": true
    },
    "kernelspec": {
      "name": "python3",
      "display_name": "Python 3"
    },
    "language_info": {
      "name": "python"
    }
  },
  "cells": [
    {
      "cell_type": "markdown",
      "metadata": {
        "id": "view-in-github",
        "colab_type": "text"
      },
      "source": [
        "<a href=\"https://colab.research.google.com/github/Shalinib6/pandas_basics/blob/main/my_dataset.ipynb\" target=\"_parent\"><img src=\"https://colab.research.google.com/assets/colab-badge.svg\" alt=\"Open In Colab\"/></a>"
      ]
    },
    {
      "cell_type": "code",
      "execution_count": 1,
      "metadata": {
        "colab": {
          "base_uri": "https://localhost:8080/"
        },
        "id": "TmFFqx68USuh",
        "outputId": "c7914d2a-493d-40ac-ca9b-e2923333be2c"
      },
      "outputs": [
        {
          "output_type": "stream",
          "name": "stdout",
          "text": [
            "Mounted at /content/drive\n"
          ]
        }
      ],
      "source": [
        "import os\n",
        "\n",
        "# Create a folder\n",
        "os.makedirs(\"my_folder\", exist_ok=True)\n",
        "\n",
        "# Save a file in that folder\n",
        "with open(\"my_folder/sample.txt\", \"w\") as f:\n",
        "    f.write(\"Hello from Colab!\")\n",
        "from google.colab import drive\n",
        "drive.mount('/content/drive')"
      ]
    },
    {
      "cell_type": "code",
      "source": [
        "from google.colab import files\n",
        "uploaded = files.upload()"
      ],
      "metadata": {
        "colab": {
          "base_uri": "https://localhost:8080/",
          "height": 73
        },
        "id": "2aK77SDIUwfv",
        "outputId": "a714d5f4-8222-4998-baec-bd2c3521d424"
      },
      "execution_count": 29,
      "outputs": [
        {
          "output_type": "display_data",
          "data": {
            "text/plain": [
              "<IPython.core.display.HTML object>"
            ],
            "text/html": [
              "\n",
              "     <input type=\"file\" id=\"files-d30367e1-252c-496e-a9c2-b31050eeace8\" name=\"files[]\" multiple disabled\n",
              "        style=\"border:none\" />\n",
              "     <output id=\"result-d30367e1-252c-496e-a9c2-b31050eeace8\">\n",
              "      Upload widget is only available when the cell has been executed in the\n",
              "      current browser session. Please rerun this cell to enable.\n",
              "      </output>\n",
              "      <script>// Copyright 2017 Google LLC\n",
              "//\n",
              "// Licensed under the Apache License, Version 2.0 (the \"License\");\n",
              "// you may not use this file except in compliance with the License.\n",
              "// You may obtain a copy of the License at\n",
              "//\n",
              "//      http://www.apache.org/licenses/LICENSE-2.0\n",
              "//\n",
              "// Unless required by applicable law or agreed to in writing, software\n",
              "// distributed under the License is distributed on an \"AS IS\" BASIS,\n",
              "// WITHOUT WARRANTIES OR CONDITIONS OF ANY KIND, either express or implied.\n",
              "// See the License for the specific language governing permissions and\n",
              "// limitations under the License.\n",
              "\n",
              "/**\n",
              " * @fileoverview Helpers for google.colab Python module.\n",
              " */\n",
              "(function(scope) {\n",
              "function span(text, styleAttributes = {}) {\n",
              "  const element = document.createElement('span');\n",
              "  element.textContent = text;\n",
              "  for (const key of Object.keys(styleAttributes)) {\n",
              "    element.style[key] = styleAttributes[key];\n",
              "  }\n",
              "  return element;\n",
              "}\n",
              "\n",
              "// Max number of bytes which will be uploaded at a time.\n",
              "const MAX_PAYLOAD_SIZE = 100 * 1024;\n",
              "\n",
              "function _uploadFiles(inputId, outputId) {\n",
              "  const steps = uploadFilesStep(inputId, outputId);\n",
              "  const outputElement = document.getElementById(outputId);\n",
              "  // Cache steps on the outputElement to make it available for the next call\n",
              "  // to uploadFilesContinue from Python.\n",
              "  outputElement.steps = steps;\n",
              "\n",
              "  return _uploadFilesContinue(outputId);\n",
              "}\n",
              "\n",
              "// This is roughly an async generator (not supported in the browser yet),\n",
              "// where there are multiple asynchronous steps and the Python side is going\n",
              "// to poll for completion of each step.\n",
              "// This uses a Promise to block the python side on completion of each step,\n",
              "// then passes the result of the previous step as the input to the next step.\n",
              "function _uploadFilesContinue(outputId) {\n",
              "  const outputElement = document.getElementById(outputId);\n",
              "  const steps = outputElement.steps;\n",
              "\n",
              "  const next = steps.next(outputElement.lastPromiseValue);\n",
              "  return Promise.resolve(next.value.promise).then((value) => {\n",
              "    // Cache the last promise value to make it available to the next\n",
              "    // step of the generator.\n",
              "    outputElement.lastPromiseValue = value;\n",
              "    return next.value.response;\n",
              "  });\n",
              "}\n",
              "\n",
              "/**\n",
              " * Generator function which is called between each async step of the upload\n",
              " * process.\n",
              " * @param {string} inputId Element ID of the input file picker element.\n",
              " * @param {string} outputId Element ID of the output display.\n",
              " * @return {!Iterable<!Object>} Iterable of next steps.\n",
              " */\n",
              "function* uploadFilesStep(inputId, outputId) {\n",
              "  const inputElement = document.getElementById(inputId);\n",
              "  inputElement.disabled = false;\n",
              "\n",
              "  const outputElement = document.getElementById(outputId);\n",
              "  outputElement.innerHTML = '';\n",
              "\n",
              "  const pickedPromise = new Promise((resolve) => {\n",
              "    inputElement.addEventListener('change', (e) => {\n",
              "      resolve(e.target.files);\n",
              "    });\n",
              "  });\n",
              "\n",
              "  const cancel = document.createElement('button');\n",
              "  inputElement.parentElement.appendChild(cancel);\n",
              "  cancel.textContent = 'Cancel upload';\n",
              "  const cancelPromise = new Promise((resolve) => {\n",
              "    cancel.onclick = () => {\n",
              "      resolve(null);\n",
              "    };\n",
              "  });\n",
              "\n",
              "  // Wait for the user to pick the files.\n",
              "  const files = yield {\n",
              "    promise: Promise.race([pickedPromise, cancelPromise]),\n",
              "    response: {\n",
              "      action: 'starting',\n",
              "    }\n",
              "  };\n",
              "\n",
              "  cancel.remove();\n",
              "\n",
              "  // Disable the input element since further picks are not allowed.\n",
              "  inputElement.disabled = true;\n",
              "\n",
              "  if (!files) {\n",
              "    return {\n",
              "      response: {\n",
              "        action: 'complete',\n",
              "      }\n",
              "    };\n",
              "  }\n",
              "\n",
              "  for (const file of files) {\n",
              "    const li = document.createElement('li');\n",
              "    li.append(span(file.name, {fontWeight: 'bold'}));\n",
              "    li.append(span(\n",
              "        `(${file.type || 'n/a'}) - ${file.size} bytes, ` +\n",
              "        `last modified: ${\n",
              "            file.lastModifiedDate ? file.lastModifiedDate.toLocaleDateString() :\n",
              "                                    'n/a'} - `));\n",
              "    const percent = span('0% done');\n",
              "    li.appendChild(percent);\n",
              "\n",
              "    outputElement.appendChild(li);\n",
              "\n",
              "    const fileDataPromise = new Promise((resolve) => {\n",
              "      const reader = new FileReader();\n",
              "      reader.onload = (e) => {\n",
              "        resolve(e.target.result);\n",
              "      };\n",
              "      reader.readAsArrayBuffer(file);\n",
              "    });\n",
              "    // Wait for the data to be ready.\n",
              "    let fileData = yield {\n",
              "      promise: fileDataPromise,\n",
              "      response: {\n",
              "        action: 'continue',\n",
              "      }\n",
              "    };\n",
              "\n",
              "    // Use a chunked sending to avoid message size limits. See b/62115660.\n",
              "    let position = 0;\n",
              "    do {\n",
              "      const length = Math.min(fileData.byteLength - position, MAX_PAYLOAD_SIZE);\n",
              "      const chunk = new Uint8Array(fileData, position, length);\n",
              "      position += length;\n",
              "\n",
              "      const base64 = btoa(String.fromCharCode.apply(null, chunk));\n",
              "      yield {\n",
              "        response: {\n",
              "          action: 'append',\n",
              "          file: file.name,\n",
              "          data: base64,\n",
              "        },\n",
              "      };\n",
              "\n",
              "      let percentDone = fileData.byteLength === 0 ?\n",
              "          100 :\n",
              "          Math.round((position / fileData.byteLength) * 100);\n",
              "      percent.textContent = `${percentDone}% done`;\n",
              "\n",
              "    } while (position < fileData.byteLength);\n",
              "  }\n",
              "\n",
              "  // All done.\n",
              "  yield {\n",
              "    response: {\n",
              "      action: 'complete',\n",
              "    }\n",
              "  };\n",
              "}\n",
              "\n",
              "scope.google = scope.google || {};\n",
              "scope.google.colab = scope.google.colab || {};\n",
              "scope.google.colab._files = {\n",
              "  _uploadFiles,\n",
              "  _uploadFilesContinue,\n",
              "};\n",
              "})(self);\n",
              "</script> "
            ]
          },
          "metadata": {}
        },
        {
          "output_type": "stream",
          "name": "stdout",
          "text": [
            "Saving my_dataset.csv to my_dataset.csv\n"
          ]
        }
      ]
    },
    {
      "cell_type": "code",
      "source": [
        "import pandas as pd\n",
        "df = pd.read_csv('my_dataset.csv')\n",
        "df.head()\n",
        "df.info()\n",
        "df.describe()"
      ],
      "metadata": {
        "colab": {
          "base_uri": "https://localhost:8080/",
          "height": 526
        },
        "id": "pBzi-JWRU8ZN",
        "outputId": "b645f24f-3252-49ed-c404-01c1b9e2ab62"
      },
      "execution_count": 16,
      "outputs": [
        {
          "output_type": "stream",
          "name": "stdout",
          "text": [
            "<class 'pandas.core.frame.DataFrame'>\n",
            "RangeIndex: 29 entries, 0 to 28\n",
            "Data columns (total 6 columns):\n",
            " #   Column  Non-Null Count  Dtype  \n",
            "---  ------  --------------  -----  \n",
            " 0   NAME    29 non-null     object \n",
            " 1   AGE     24 non-null     float64\n",
            " 2   EMAIL   27 non-null     object \n",
            " 3   SCORE   28 non-null     object \n",
            " 4   CITY    29 non-null     object \n",
            " 5   PHONE   22 non-null     float64\n",
            "dtypes: float64(2), object(4)\n",
            "memory usage: 1.5+ KB\n"
          ]
        },
        {
          "output_type": "execute_result",
          "data": {
            "text/plain": [
              "               AGE         PHONE\n",
              "count    24.000000  2.200000e+01\n",
              "mean    106.500000  7.600924e+09\n",
              "std     303.440991  3.063591e+09\n",
              "min      15.000000  9.765400e+04\n",
              "25%      23.000000  7.455841e+09\n",
              "50%      34.500000  8.944444e+09\n",
              "75%      54.000000  9.677973e+09\n",
              "max    1515.000000  9.876543e+09"
            ],
            "text/html": [
              "\n",
              "  <div id=\"df-084d35bd-a8af-4aed-ad34-26b6832535c1\" class=\"colab-df-container\">\n",
              "    <div>\n",
              "<style scoped>\n",
              "    .dataframe tbody tr th:only-of-type {\n",
              "        vertical-align: middle;\n",
              "    }\n",
              "\n",
              "    .dataframe tbody tr th {\n",
              "        vertical-align: top;\n",
              "    }\n",
              "\n",
              "    .dataframe thead th {\n",
              "        text-align: right;\n",
              "    }\n",
              "</style>\n",
              "<table border=\"1\" class=\"dataframe\">\n",
              "  <thead>\n",
              "    <tr style=\"text-align: right;\">\n",
              "      <th></th>\n",
              "      <th>AGE</th>\n",
              "      <th>PHONE</th>\n",
              "    </tr>\n",
              "  </thead>\n",
              "  <tbody>\n",
              "    <tr>\n",
              "      <th>count</th>\n",
              "      <td>24.000000</td>\n",
              "      <td>2.200000e+01</td>\n",
              "    </tr>\n",
              "    <tr>\n",
              "      <th>mean</th>\n",
              "      <td>106.500000</td>\n",
              "      <td>7.600924e+09</td>\n",
              "    </tr>\n",
              "    <tr>\n",
              "      <th>std</th>\n",
              "      <td>303.440991</td>\n",
              "      <td>3.063591e+09</td>\n",
              "    </tr>\n",
              "    <tr>\n",
              "      <th>min</th>\n",
              "      <td>15.000000</td>\n",
              "      <td>9.765400e+04</td>\n",
              "    </tr>\n",
              "    <tr>\n",
              "      <th>25%</th>\n",
              "      <td>23.000000</td>\n",
              "      <td>7.455841e+09</td>\n",
              "    </tr>\n",
              "    <tr>\n",
              "      <th>50%</th>\n",
              "      <td>34.500000</td>\n",
              "      <td>8.944444e+09</td>\n",
              "    </tr>\n",
              "    <tr>\n",
              "      <th>75%</th>\n",
              "      <td>54.000000</td>\n",
              "      <td>9.677973e+09</td>\n",
              "    </tr>\n",
              "    <tr>\n",
              "      <th>max</th>\n",
              "      <td>1515.000000</td>\n",
              "      <td>9.876543e+09</td>\n",
              "    </tr>\n",
              "  </tbody>\n",
              "</table>\n",
              "</div>\n",
              "    <div class=\"colab-df-buttons\">\n",
              "\n",
              "  <div class=\"colab-df-container\">\n",
              "    <button class=\"colab-df-convert\" onclick=\"convertToInteractive('df-084d35bd-a8af-4aed-ad34-26b6832535c1')\"\n",
              "            title=\"Convert this dataframe to an interactive table.\"\n",
              "            style=\"display:none;\">\n",
              "\n",
              "  <svg xmlns=\"http://www.w3.org/2000/svg\" height=\"24px\" viewBox=\"0 -960 960 960\">\n",
              "    <path d=\"M120-120v-720h720v720H120Zm60-500h600v-160H180v160Zm220 220h160v-160H400v160Zm0 220h160v-160H400v160ZM180-400h160v-160H180v160Zm440 0h160v-160H620v160ZM180-180h160v-160H180v160Zm440 0h160v-160H620v160Z\"/>\n",
              "  </svg>\n",
              "    </button>\n",
              "\n",
              "  <style>\n",
              "    .colab-df-container {\n",
              "      display:flex;\n",
              "      gap: 12px;\n",
              "    }\n",
              "\n",
              "    .colab-df-convert {\n",
              "      background-color: #E8F0FE;\n",
              "      border: none;\n",
              "      border-radius: 50%;\n",
              "      cursor: pointer;\n",
              "      display: none;\n",
              "      fill: #1967D2;\n",
              "      height: 32px;\n",
              "      padding: 0 0 0 0;\n",
              "      width: 32px;\n",
              "    }\n",
              "\n",
              "    .colab-df-convert:hover {\n",
              "      background-color: #E2EBFA;\n",
              "      box-shadow: 0px 1px 2px rgba(60, 64, 67, 0.3), 0px 1px 3px 1px rgba(60, 64, 67, 0.15);\n",
              "      fill: #174EA6;\n",
              "    }\n",
              "\n",
              "    .colab-df-buttons div {\n",
              "      margin-bottom: 4px;\n",
              "    }\n",
              "\n",
              "    [theme=dark] .colab-df-convert {\n",
              "      background-color: #3B4455;\n",
              "      fill: #D2E3FC;\n",
              "    }\n",
              "\n",
              "    [theme=dark] .colab-df-convert:hover {\n",
              "      background-color: #434B5C;\n",
              "      box-shadow: 0px 1px 3px 1px rgba(0, 0, 0, 0.15);\n",
              "      filter: drop-shadow(0px 1px 2px rgba(0, 0, 0, 0.3));\n",
              "      fill: #FFFFFF;\n",
              "    }\n",
              "  </style>\n",
              "\n",
              "    <script>\n",
              "      const buttonEl =\n",
              "        document.querySelector('#df-084d35bd-a8af-4aed-ad34-26b6832535c1 button.colab-df-convert');\n",
              "      buttonEl.style.display =\n",
              "        google.colab.kernel.accessAllowed ? 'block' : 'none';\n",
              "\n",
              "      async function convertToInteractive(key) {\n",
              "        const element = document.querySelector('#df-084d35bd-a8af-4aed-ad34-26b6832535c1');\n",
              "        const dataTable =\n",
              "          await google.colab.kernel.invokeFunction('convertToInteractive',\n",
              "                                                    [key], {});\n",
              "        if (!dataTable) return;\n",
              "\n",
              "        const docLinkHtml = 'Like what you see? Visit the ' +\n",
              "          '<a target=\"_blank\" href=https://colab.research.google.com/notebooks/data_table.ipynb>data table notebook</a>'\n",
              "          + ' to learn more about interactive tables.';\n",
              "        element.innerHTML = '';\n",
              "        dataTable['output_type'] = 'display_data';\n",
              "        await google.colab.output.renderOutput(dataTable, element);\n",
              "        const docLink = document.createElement('div');\n",
              "        docLink.innerHTML = docLinkHtml;\n",
              "        element.appendChild(docLink);\n",
              "      }\n",
              "    </script>\n",
              "  </div>\n",
              "\n",
              "\n",
              "    <div id=\"df-7637045b-fab4-4363-b6ca-c485d914de55\">\n",
              "      <button class=\"colab-df-quickchart\" onclick=\"quickchart('df-7637045b-fab4-4363-b6ca-c485d914de55')\"\n",
              "                title=\"Suggest charts\"\n",
              "                style=\"display:none;\">\n",
              "\n",
              "<svg xmlns=\"http://www.w3.org/2000/svg\" height=\"24px\"viewBox=\"0 0 24 24\"\n",
              "     width=\"24px\">\n",
              "    <g>\n",
              "        <path d=\"M19 3H5c-1.1 0-2 .9-2 2v14c0 1.1.9 2 2 2h14c1.1 0 2-.9 2-2V5c0-1.1-.9-2-2-2zM9 17H7v-7h2v7zm4 0h-2V7h2v10zm4 0h-2v-4h2v4z\"/>\n",
              "    </g>\n",
              "</svg>\n",
              "      </button>\n",
              "\n",
              "<style>\n",
              "  .colab-df-quickchart {\n",
              "      --bg-color: #E8F0FE;\n",
              "      --fill-color: #1967D2;\n",
              "      --hover-bg-color: #E2EBFA;\n",
              "      --hover-fill-color: #174EA6;\n",
              "      --disabled-fill-color: #AAA;\n",
              "      --disabled-bg-color: #DDD;\n",
              "  }\n",
              "\n",
              "  [theme=dark] .colab-df-quickchart {\n",
              "      --bg-color: #3B4455;\n",
              "      --fill-color: #D2E3FC;\n",
              "      --hover-bg-color: #434B5C;\n",
              "      --hover-fill-color: #FFFFFF;\n",
              "      --disabled-bg-color: #3B4455;\n",
              "      --disabled-fill-color: #666;\n",
              "  }\n",
              "\n",
              "  .colab-df-quickchart {\n",
              "    background-color: var(--bg-color);\n",
              "    border: none;\n",
              "    border-radius: 50%;\n",
              "    cursor: pointer;\n",
              "    display: none;\n",
              "    fill: var(--fill-color);\n",
              "    height: 32px;\n",
              "    padding: 0;\n",
              "    width: 32px;\n",
              "  }\n",
              "\n",
              "  .colab-df-quickchart:hover {\n",
              "    background-color: var(--hover-bg-color);\n",
              "    box-shadow: 0 1px 2px rgba(60, 64, 67, 0.3), 0 1px 3px 1px rgba(60, 64, 67, 0.15);\n",
              "    fill: var(--button-hover-fill-color);\n",
              "  }\n",
              "\n",
              "  .colab-df-quickchart-complete:disabled,\n",
              "  .colab-df-quickchart-complete:disabled:hover {\n",
              "    background-color: var(--disabled-bg-color);\n",
              "    fill: var(--disabled-fill-color);\n",
              "    box-shadow: none;\n",
              "  }\n",
              "\n",
              "  .colab-df-spinner {\n",
              "    border: 2px solid var(--fill-color);\n",
              "    border-color: transparent;\n",
              "    border-bottom-color: var(--fill-color);\n",
              "    animation:\n",
              "      spin 1s steps(1) infinite;\n",
              "  }\n",
              "\n",
              "  @keyframes spin {\n",
              "    0% {\n",
              "      border-color: transparent;\n",
              "      border-bottom-color: var(--fill-color);\n",
              "      border-left-color: var(--fill-color);\n",
              "    }\n",
              "    20% {\n",
              "      border-color: transparent;\n",
              "      border-left-color: var(--fill-color);\n",
              "      border-top-color: var(--fill-color);\n",
              "    }\n",
              "    30% {\n",
              "      border-color: transparent;\n",
              "      border-left-color: var(--fill-color);\n",
              "      border-top-color: var(--fill-color);\n",
              "      border-right-color: var(--fill-color);\n",
              "    }\n",
              "    40% {\n",
              "      border-color: transparent;\n",
              "      border-right-color: var(--fill-color);\n",
              "      border-top-color: var(--fill-color);\n",
              "    }\n",
              "    60% {\n",
              "      border-color: transparent;\n",
              "      border-right-color: var(--fill-color);\n",
              "    }\n",
              "    80% {\n",
              "      border-color: transparent;\n",
              "      border-right-color: var(--fill-color);\n",
              "      border-bottom-color: var(--fill-color);\n",
              "    }\n",
              "    90% {\n",
              "      border-color: transparent;\n",
              "      border-bottom-color: var(--fill-color);\n",
              "    }\n",
              "  }\n",
              "</style>\n",
              "\n",
              "      <script>\n",
              "        async function quickchart(key) {\n",
              "          const quickchartButtonEl =\n",
              "            document.querySelector('#' + key + ' button');\n",
              "          quickchartButtonEl.disabled = true;  // To prevent multiple clicks.\n",
              "          quickchartButtonEl.classList.add('colab-df-spinner');\n",
              "          try {\n",
              "            const charts = await google.colab.kernel.invokeFunction(\n",
              "                'suggestCharts', [key], {});\n",
              "          } catch (error) {\n",
              "            console.error('Error during call to suggestCharts:', error);\n",
              "          }\n",
              "          quickchartButtonEl.classList.remove('colab-df-spinner');\n",
              "          quickchartButtonEl.classList.add('colab-df-quickchart-complete');\n",
              "        }\n",
              "        (() => {\n",
              "          let quickchartButtonEl =\n",
              "            document.querySelector('#df-7637045b-fab4-4363-b6ca-c485d914de55 button');\n",
              "          quickchartButtonEl.style.display =\n",
              "            google.colab.kernel.accessAllowed ? 'block' : 'none';\n",
              "        })();\n",
              "      </script>\n",
              "    </div>\n",
              "\n",
              "    </div>\n",
              "  </div>\n"
            ],
            "application/vnd.google.colaboratory.intrinsic+json": {
              "type": "dataframe",
              "summary": "{\n  \"name\": \"df\",\n  \"rows\": 8,\n  \"fields\": [\n    {\n      \"column\": \"AGE\",\n      \"properties\": {\n        \"dtype\": \"number\",\n        \"std\": 516.2568604309826,\n        \"min\": 15.0,\n        \"max\": 1515.0,\n        \"num_unique_values\": 8,\n        \"samples\": [\n          106.5,\n          34.5,\n          24.0\n        ],\n        \"semantic_type\": \"\",\n        \"description\": \"\"\n      }\n    },\n    {\n      \"column\": \"PHONE\",\n      \"properties\": {\n        \"dtype\": \"number\",\n        \"std\": 4179718469.731081,\n        \"min\": 22.0,\n        \"max\": 9876543210.0,\n        \"num_unique_values\": 8,\n        \"samples\": [\n          7600924041.136364,\n          8944444449.0,\n          22.0\n        ],\n        \"semantic_type\": \"\",\n        \"description\": \"\"\n      }\n    }\n  ]\n}"
            }
          },
          "metadata": {},
          "execution_count": 16
        }
      ]
    },
    {
      "cell_type": "code",
      "source": [
        "import pandas as pd\n",
        "dff= pd.read_csv('my_dataset.csv')\n",
        "df = pd.DataFrame(dff)\n",
        "print(\"Original:\\n\", df)\n",
        "\n"
      ],
      "metadata": {
        "colab": {
          "base_uri": "https://localhost:8080/"
        },
        "id": "3QxwfHYkVjha",
        "outputId": "317d7799-bf8c-4e0d-fabe-d5de353cfe2d"
      },
      "execution_count": 30,
      "outputs": [
        {
          "output_type": "stream",
          "name": "stdout",
          "text": [
            "Original:\n",
            "          NAME    AGE                  EMAIL   SCORE         CITY         PHONE\n",
            "0        John   20.0         john@gmail.com      85      Chennai  9.876543e+09\n",
            "1        John   20.0         john@gmail.com      85      Chennai  9.876543e+09\n",
            "2      Anjali   23.0       anjali@gmail.com      35      CHENNAI           NaN\n",
            "3      Anjali   25.0      anjali@@gmail.com      24      CHENNAI  9.823457e+09\n",
            "4        Riya   26.0         riya@gmail.com   19000       mumbai  9.765432e+08\n",
            "5        Riya  244.0         riya@gmail.com      25       MUMBAI           NaN\n",
            "6       Arjun   48.0      arjun03@gmail.com      16        dELHI           NaN\n",
            "7         Raj   45.0       raj855@gmail.com      38        Delhi           NaN\n",
            "8     Prakash   29.0      prakash@gmail.com      45      Chennai  7.530071e+09\n",
            "9     Brindha    NaN      brindha@gmail.com      99        DELHI  9.345678e+09\n",
            "10        Raj   78.0       raj855@gmail.com     100      Chennai  6.789012e+09\n",
            "11     Nikhil   23.0     nikhil12@gmail.com     NaN       Mumbai  9.765432e+09\n",
            "12     Nikhil   21.0     nikhil12@gmail.com  Anjali       MUMBAI  9.765400e+04\n",
            "13      Mohan   18.0        mohan@yahoo.com     333  Ponidcherry  9.791461e+09\n",
            "14     Prabhu   15.0      prabhu@@yahoo.com      18  PONIDCHERRY           NaN\n",
            "15    Prakash   29.0      prakash@gmail.com      45      Chennai  7.530071e+09\n",
            "16    Shalini   34.0  shalini3003@gmail.com      50    Bangalore  9.342074e+09\n",
            "17       Sana   45.0                    NaN      78   Bangaloree           NaN\n",
            "18       Sana   56.0     sana2930@gmail.com      66    bangalore  7.431098e+09\n",
            "19      Rithu   67.0        rithu@yahoo.com      44     Hydrabad  7.654322e+09\n",
            "20      Sowmi   21.0         sow12345@gmail      79     hydrabad  9.135248e+09\n",
            "21      Tamil   25.0                    NaN      89        DELHI  6.123410e+09\n",
            "22      Tamil   26.0        tamil@gmail.com      98       Kerala  9.677973e+09\n",
            "23      Tamil   26.0        tamil@gmail.com      98       Kerala  9.677973e+09\n",
            "24      David   35.0         davidgmail.com      99       Panjab  7.896054e+09\n",
            "25       Gopu   38.0        gopu@@gmail.com    1890       PANJAB  8.765432e+09\n",
            "26       John   54.0         jonh@gmail.com      46  PONIDCHERRY  9.123457e+09\n",
            "27    Krishna    NaN    krishna45@gmail.com      49      Gujarat           NaN\n",
            "28  Lakshmana   54.0   lakshana78@gmail.com      79       Kerala  7.865443e+09\n",
            "29     Muthun   25.0  muthunkrish@gmail.com      80    TamilNadu  9.123457e+09\n",
            "30     Muthun    NaN  muthunkrish@gmail.com      80    TamilNadu  9.123457e+09\n"
          ]
        }
      ]
    },
    {
      "cell_type": "code",
      "source": [
        "import pandas as pd\n",
        "dff = pd.read_csv('my_dataset.csv')\n",
        "df = dff.copy()\n",
        "df = df.apply(lambda x: x.str.strip() if x.dtype == \"object\" else x)\n",
        "print(df.columns.tolist())\n",
        "\n",
        "#print(\"After drop_duplicates:\\n\", df_cleaned)\n"
      ],
      "metadata": {
        "colab": {
          "base_uri": "https://localhost:8080/"
        },
        "id": "s-IeY44fbFEk",
        "outputId": "727754e1-6e01-461f-b588-1df19c5afa25"
      },
      "execution_count": 32,
      "outputs": [
        {
          "output_type": "stream",
          "name": "stdout",
          "text": [
            "['NAME', 'AGE', 'EMAIL', 'SCORE', 'CITY', 'PHONE']\n"
          ]
        }
      ]
    },
    {
      "cell_type": "code",
      "source": [
        "import pandas as pd\n",
        "dff = pd.read_csv('my_dataset.csv')\n",
        "df = dff.copy()\n",
        "df = df.apply(lambda x: x.str.strip() if x.dtype == \"object\" else x)\n",
        "df_cleaned = df.drop_duplicates(subset=['NAME', 'AGE', 'CITY'])\n",
        "print(\"After drop_duplicates:\\n\", df_cleaned)"
      ],
      "metadata": {
        "colab": {
          "base_uri": "https://localhost:8080/"
        },
        "id": "pwCLXJ5cfccb",
        "outputId": "5211c5c5-bacc-494f-b243-48b96d593579"
      },
      "execution_count": 33,
      "outputs": [
        {
          "output_type": "stream",
          "name": "stdout",
          "text": [
            "After drop_duplicates:\n",
            "          NAME    AGE                  EMAIL   SCORE         CITY         PHONE\n",
            "0        John   20.0         john@gmail.com      85      Chennai  9.876543e+09\n",
            "2      Anjali   23.0       anjali@gmail.com      35      CHENNAI           NaN\n",
            "3      Anjali   25.0      anjali@@gmail.com      24      CHENNAI  9.823457e+09\n",
            "4        Riya   26.0         riya@gmail.com   19000       mumbai  9.765432e+08\n",
            "5        Riya  244.0         riya@gmail.com      25       MUMBAI           NaN\n",
            "6       Arjun   48.0      arjun03@gmail.com      16        dELHI           NaN\n",
            "7         Raj   45.0       raj855@gmail.com      38        Delhi           NaN\n",
            "8     Prakash   29.0      prakash@gmail.com      45      Chennai  7.530071e+09\n",
            "9     Brindha    NaN      brindha@gmail.com      99        DELHI  9.345678e+09\n",
            "10        Raj   78.0       raj855@gmail.com     100      Chennai  6.789012e+09\n",
            "11     Nikhil   23.0     nikhil12@gmail.com     NaN       Mumbai  9.765432e+09\n",
            "12     Nikhil   21.0     nikhil12@gmail.com  Anjali       MUMBAI  9.765400e+04\n",
            "13      Mohan   18.0        mohan@yahoo.com     333  Ponidcherry  9.791461e+09\n",
            "14     Prabhu   15.0      prabhu@@yahoo.com      18  PONIDCHERRY           NaN\n",
            "16    Shalini   34.0  shalini3003@gmail.com      50    Bangalore  9.342074e+09\n",
            "17       Sana   45.0                    NaN      78   Bangaloree           NaN\n",
            "18       Sana   56.0     sana2930@gmail.com      66    bangalore  7.431098e+09\n",
            "19      Rithu   67.0        rithu@yahoo.com      44     Hydrabad  7.654322e+09\n",
            "20      Sowmi   21.0         sow12345@gmail      79     hydrabad  9.135248e+09\n",
            "21      Tamil   25.0                    NaN      89        DELHI  6.123410e+09\n",
            "22      Tamil   26.0        tamil@gmail.com      98       Kerala  9.677973e+09\n",
            "24      David   35.0         davidgmail.com      99       Panjab  7.896054e+09\n",
            "25       Gopu   38.0        gopu@@gmail.com    1890       PANJAB  8.765432e+09\n",
            "26       John   54.0         jonh@gmail.com      46  PONIDCHERRY  9.123457e+09\n",
            "27    Krishna    NaN    krishna45@gmail.com      49      Gujarat           NaN\n",
            "28  Lakshmana   54.0   lakshana78@gmail.com      79       Kerala  7.865443e+09\n",
            "29     Muthun   25.0  muthunkrish@gmail.com      80    TamilNadu  9.123457e+09\n",
            "30     Muthun    NaN  muthunkrish@gmail.com      80    TamilNadu  9.123457e+09\n"
          ]
        }
      ]
    },
    {
      "cell_type": "code",
      "source": [
        "import pandas as pd\n",
        "dff = pd.read_csv('my_dataset.csv')\n",
        "df = dff.copy()\n",
        "#count missing values\n",
        "df.isnull().sum()\n",
        "df = df.dropna()  #---->drop the missing value row\n"
      ],
      "metadata": {
        "id": "Ae8rBNz9hx5p"
      },
      "execution_count": 43,
      "outputs": []
    },
    {
      "cell_type": "code",
      "source": [
        "import pandas as pd\n",
        "dff = pd.read_csv('my_dataset.csv')\n",
        "df = dff.copy()\n",
        "dfff = df.dropna() #--->Remove rows with missing values\n",
        "print(dfff)"
      ],
      "metadata": {
        "colab": {
          "base_uri": "https://localhost:8080/"
        },
        "id": "PkL9KP-OiXf0",
        "outputId": "500ee84a-f3db-4ee8-933f-6d3c91c78266"
      },
      "execution_count": 38,
      "outputs": [
        {
          "output_type": "stream",
          "name": "stdout",
          "text": [
            "         NAME   AGE                  EMAIL   SCORE         CITY         PHONE\n",
            "0        John  20.0         john@gmail.com      85      Chennai  9.876543e+09\n",
            "1        John  20.0         john@gmail.com      85      Chennai  9.876543e+09\n",
            "3      Anjali  25.0      anjali@@gmail.com      24      CHENNAI  9.823457e+09\n",
            "4        Riya  26.0         riya@gmail.com   19000       mumbai  9.765432e+08\n",
            "8     Prakash  29.0      prakash@gmail.com      45      Chennai  7.530071e+09\n",
            "10        Raj  78.0       raj855@gmail.com     100      Chennai  6.789012e+09\n",
            "12     Nikhil  21.0     nikhil12@gmail.com  Anjali       MUMBAI  9.765400e+04\n",
            "13      Mohan  18.0        mohan@yahoo.com     333  Ponidcherry  9.791461e+09\n",
            "15    Prakash  29.0      prakash@gmail.com      45      Chennai  7.530071e+09\n",
            "16    Shalini  34.0  shalini3003@gmail.com      50    Bangalore  9.342074e+09\n",
            "18       Sana  56.0     sana2930@gmail.com      66    bangalore  7.431098e+09\n",
            "19      Rithu  67.0        rithu@yahoo.com      44     Hydrabad  7.654322e+09\n",
            "20      Sowmi  21.0         sow12345@gmail      79     hydrabad  9.135248e+09\n",
            "22      Tamil  26.0        tamil@gmail.com      98       Kerala  9.677973e+09\n",
            "23      Tamil  26.0        tamil@gmail.com      98       Kerala  9.677973e+09\n",
            "24      David  35.0         davidgmail.com      99       Panjab  7.896054e+09\n",
            "25       Gopu  38.0        gopu@@gmail.com    1890       PANJAB  8.765432e+09\n",
            "26       John  54.0         jonh@gmail.com      46  PONIDCHERRY  9.123457e+09\n",
            "28  Lakshmana  54.0   lakshana78@gmail.com      79       Kerala  7.865443e+09\n",
            "29     Muthun  25.0  muthunkrish@gmail.com      80    TamilNadu  9.123457e+09\n"
          ]
        }
      ]
    },
    {
      "cell_type": "code",
      "source": [
        "import pandas as pd\n",
        "dff = pd.read_csv('my_dataset.csv')\n",
        "df = dff.copy()\n",
        "df['AGE'] = df['AGE'].fillna(0)         # Fill missing with 0\n",
        "df['EMAIL'] = df['EMAIL'].fillna('Unknown')\n",
        "dfff = df.dropna()\n",
        "print(dfff)"
      ],
      "metadata": {
        "colab": {
          "base_uri": "https://localhost:8080/"
        },
        "id": "Mr9qZJeMi8B_",
        "outputId": "d3d70f27-7255-4f32-b248-a07addd1190e"
      },
      "execution_count": 47,
      "outputs": [
        {
          "output_type": "stream",
          "name": "stdout",
          "text": [
            "         NAME   AGE                  EMAIL   SCORE         CITY         PHONE\n",
            "0        John  20.0         john@gmail.com      85      Chennai  9.876543e+09\n",
            "1        John  20.0         john@gmail.com      85      Chennai  9.876543e+09\n",
            "3      Anjali  25.0      anjali@@gmail.com      24      CHENNAI  9.823457e+09\n",
            "4        Riya  26.0         riya@gmail.com   19000       mumbai  9.765432e+08\n",
            "8     Prakash  29.0      prakash@gmail.com      45      Chennai  7.530071e+09\n",
            "9     Brindha   0.0      brindha@gmail.com      99        DELHI  9.345678e+09\n",
            "10        Raj  78.0       raj855@gmail.com     100      Chennai  6.789012e+09\n",
            "12     Nikhil  21.0     nikhil12@gmail.com  Anjali       MUMBAI  9.765400e+04\n",
            "13      Mohan  18.0        mohan@yahoo.com     333  Ponidcherry  9.791461e+09\n",
            "15    Prakash  29.0      prakash@gmail.com      45      Chennai  7.530071e+09\n",
            "16    Shalini  34.0  shalini3003@gmail.com      50    Bangalore  9.342074e+09\n",
            "18       Sana  56.0     sana2930@gmail.com      66    bangalore  7.431098e+09\n",
            "19      Rithu  67.0        rithu@yahoo.com      44     Hydrabad  7.654322e+09\n",
            "20      Sowmi  21.0         sow12345@gmail      79     hydrabad  9.135248e+09\n",
            "21      Tamil  25.0                Unknown      89        DELHI  6.123410e+09\n",
            "22      Tamil  26.0        tamil@gmail.com      98       Kerala  9.677973e+09\n",
            "23      Tamil  26.0        tamil@gmail.com      98       Kerala  9.677973e+09\n",
            "24      David  35.0         davidgmail.com      99       Panjab  7.896054e+09\n",
            "25       Gopu  38.0        gopu@@gmail.com    1890       PANJAB  8.765432e+09\n",
            "26       John  54.0         jonh@gmail.com      46  PONIDCHERRY  9.123457e+09\n",
            "28  Lakshmana  54.0   lakshana78@gmail.com      79       Kerala  7.865443e+09\n",
            "29     Muthun  25.0  muthunkrish@gmail.com      80    TamilNadu  9.123457e+09\n",
            "30     Muthun   0.0  muthunkrish@gmail.com      80    TamilNadu  9.123457e+09\n"
          ]
        }
      ]
    },
    {
      "cell_type": "code",
      "source": [
        "import pandas as pd\n",
        "dff = pd.read_csv('my_dataset.csv')\n",
        "df = dff.copy()\n",
        "dfff = df.dropna()\n",
        "df['CITY'] = df['CITY'].str.title()\n",
        "df['EMAIL'] = df['EMAIL'].str.lower()\n",
        "df = df[df['AGE'] > 0]\n",
        "df['SCORE'] = pd.to_numeric(df['SCORE'], errors='coerce')  # Converts to numbers, replaces invalids with NaN\n",
        "df = df[df['SCORE'] <= 100]\n",
        "\n",
        "\n",
        "print(df)\n"
      ],
      "metadata": {
        "colab": {
          "base_uri": "https://localhost:8080/"
        },
        "id": "z2CKMxwekiQB",
        "outputId": "317fc417-15b3-4ad9-b500-df56e6acee00"
      },
      "execution_count": 55,
      "outputs": [
        {
          "output_type": "stream",
          "name": "stdout",
          "text": [
            "         NAME    AGE                  EMAIL  SCORE         CITY         PHONE\n",
            "0        John   20.0         john@gmail.com   85.0      Chennai  9.876543e+09\n",
            "1        John   20.0         john@gmail.com   85.0      Chennai  9.876543e+09\n",
            "2      Anjali   23.0       anjali@gmail.com   35.0      Chennai           NaN\n",
            "3      Anjali   25.0      anjali@@gmail.com   24.0      Chennai  9.823457e+09\n",
            "5        Riya  244.0         riya@gmail.com   25.0       Mumbai           NaN\n",
            "6       Arjun   48.0      arjun03@gmail.com   16.0        Delhi           NaN\n",
            "7         Raj   45.0       raj855@gmail.com   38.0        Delhi           NaN\n",
            "8     Prakash   29.0      prakash@gmail.com   45.0      Chennai  7.530071e+09\n",
            "10        Raj   78.0       raj855@gmail.com  100.0      Chennai  6.789012e+09\n",
            "14     Prabhu   15.0      prabhu@@yahoo.com   18.0  Ponidcherry           NaN\n",
            "15    Prakash   29.0      prakash@gmail.com   45.0      Chennai  7.530071e+09\n",
            "16    Shalini   34.0  shalini3003@gmail.com   50.0    Bangalore  9.342074e+09\n",
            "17       Sana   45.0                    NaN   78.0   Bangaloree           NaN\n",
            "18       Sana   56.0     sana2930@gmail.com   66.0    Bangalore  7.431098e+09\n",
            "19      Rithu   67.0        rithu@yahoo.com   44.0     Hydrabad  7.654322e+09\n",
            "20      Sowmi   21.0         sow12345@gmail   79.0     Hydrabad  9.135248e+09\n",
            "21      Tamil   25.0                    NaN   89.0        Delhi  6.123410e+09\n",
            "22      Tamil   26.0        tamil@gmail.com   98.0       Kerala  9.677973e+09\n",
            "23      Tamil   26.0        tamil@gmail.com   98.0       Kerala  9.677973e+09\n",
            "24      David   35.0         davidgmail.com   99.0       Panjab  7.896054e+09\n",
            "26       John   54.0         jonh@gmail.com   46.0  Ponidcherry  9.123457e+09\n",
            "28  Lakshmana   54.0   lakshana78@gmail.com   79.0       Kerala  7.865443e+09\n",
            "29     Muthun   25.0  muthunkrish@gmail.com   80.0    Tamilnadu  9.123457e+09\n"
          ]
        }
      ]
    },
    {
      "cell_type": "code",
      "source": [
        "import matplotlib.pyplot as plt\n",
        "import pandas as pd\n",
        "dff = pd.read_csv('my_dataset.csv')\n",
        "df = dff.copy()\n",
        "dfff = df.dropna()\n",
        "df['CITY'] = df['CITY'].str.title()\n",
        "df['EMAIL'] = df['EMAIL'].str.lower()\n",
        "df = df[df['AGE'] > 0]\n",
        "df['SCORE'] = pd.to_numeric(df['SCORE'], errors='coerce')  # Converts to numbers, replaces invalids with NaN\n",
        "df = df[df['SCORE'] <= 100]\n",
        "plt.figure(figsize=(8, 5))\n",
        "plt.hist(df['SCORE'], bins=10, color='skyblue', edgecolor='black')\n",
        "plt.title('Score Distribution')\n",
        "plt.xlabel('Score')\n",
        "plt.ylabel('Frequency')\n",
        "plt.grid(True)\n",
        "plt.show()\n"
      ],
      "metadata": {
        "colab": {
          "base_uri": "https://localhost:8080/",
          "height": 487
        },
        "id": "Jp7N0DpbnBDc",
        "outputId": "0e58645f-1349-4c25-db7f-c29805b1e809"
      },
      "execution_count": 57,
      "outputs": [
        {
          "output_type": "display_data",
          "data": {
            "text/plain": [
              "<Figure size 800x500 with 1 Axes>"
            ],
            "image/png": "[encoded data removed]"
          },
          "metadata": {}
        }
      ]
    },
    {
      "cell_type": "code",
      "source": [],
      "metadata": {
        "id": "u70LvUZ_nezz"
      },
      "execution_count": null,
      "outputs": []
    },
    {
      "cell_type": "code",
      "source": [
        "import matplotlib.pyplot as plt\n",
        "import pandas as pd\n",
        "dff = pd.read_csv('my_dataset.csv')\n",
        "df = dff.copy()\n",
        "dfff = df.dropna()\n",
        "df['CITY'] = df['CITY'].str.title()\n",
        "df['EMAIL'] = df['EMAIL'].str.lower()\n",
        "df = df[df['AGE'] > 0]\n",
        "df['SCORE'] = pd.to_numeric(df['SCORE'], errors='coerce')  # Converts to numbers, replaces invalids with NaN\n",
        "df = df[df['SCORE'] <= 100]\n",
        "plt.figure(figsize=(8, 5))\n",
        "plt.hist(df['SCORE'], bins=10, color='skyblue', edgecolor='black')\n",
        "plt.title('Score Distribution')\n",
        "plt.xlabel('Score')\n",
        "plt.ylabel('Frequency')\n",
        "plt.grid(True)\n",
        "plt.show()\n"
      ],
      "metadata": {
        "colab": {
          "base_uri": "https://localhost:8080/",
          "height": 487
        },
        "outputId": "0e58645f-1349-4c25-db7f-c29805b1e809",
        "id": "idZGpEIrnfL0"
      },
      "execution_count": null,
      "outputs": [
        {
          "output_type": "display_data",
          "data": {
            "text/plain": [
              "<Figure size 800x500 with 1 Axes>"
            ],
            "image/png": "[encoded data removed]"
          },
          "metadata": {}
        }
      ]
    },
    {
      "cell_type": "code",
      "source": [],
      "metadata": {
        "id": "-5wr7XsTng0i"
      },
      "execution_count": null,
      "outputs": []
    },
    {
      "cell_type": "code",
      "source": [
        "import matplotlib.pyplot as plt\n",
        "import pandas as pd\n",
        "dff = pd.read_csv('my_dataset.csv')\n",
        "df = dff.copy()\n",
        "dfff = df.dropna()\n",
        "df['CITY'] = df['CITY'].str.title()\n",
        "df['EMAIL'] = df['EMAIL'].str.lower()\n",
        "df = df[df['AGE'] > 0]\n",
        "df['SCORE'] = pd.to_numeric(df['SCORE'], errors='coerce')  # Converts to numbers, replaces invalids with NaN\n",
        "df = df[df['SCORE'] <= 100]\n",
        "plt.figure(figsize=(8, 5))\n",
        "plt.hist(df['SCORE'], bins=10, color='skyblue', edgecolor='black')\n",
        "plt.title('Score Distribution')\n",
        "plt.xlabel('Score')\n",
        "plt.ylabel('Frequency')\n",
        "plt.grid(True)\n",
        "plt.show()\n"
      ],
      "metadata": {
        "colab": {
          "base_uri": "https://localhost:8080/",
          "height": 487
        },
        "outputId": "0e58645f-1349-4c25-db7f-c29805b1e809",
        "id": "mwX8JnpanhKj"
      },
      "execution_count": null,
      "outputs": [
        {
          "output_type": "display_data",
          "data": {
            "text/plain": [
              "<Figure size 800x500 with 1 Axes>"
            ],
            "image/png": "[encoded data removed]"
          },
          "metadata": {}
        }
      ]
    },
    {
      "cell_type": "code",
      "source": [
        "import matplotlib.pyplot as plt\n",
        "import pandas as pd\n",
        "dff = pd.read_csv('my_dataset.csv')\n",
        "df = dff.copy()\n",
        "dfff = df.dropna()\n",
        "df['CITY'] = df['CITY'].str.title()\n",
        "df['EMAIL'] = df['EMAIL'].str.lower()\n",
        "df = df[df['AGE'] > 0]\n",
        "df['SCORE'] = pd.to_numeric(df['SCORE'], errors='coerce')  # Converts to numbers, replaces invalids with NaN\n",
        "df = df[df['SCORE'] <= 100]\n",
        "plt.figure(figsize=(8, 5))\n",
        "plt.plot(df['NAME'], df['SCORE'], marker='o', linestyle='--', color='green')\n",
        "plt.title('Score Distribution')\n",
        "plt.xlabel('Score')\n",
        "plt.ylabel('Frequency')\n",
        "plt.grid(True)\n",
        "plt.show()"
      ],
      "metadata": {
        "colab": {
          "base_uri": "https://localhost:8080/",
          "height": 487
        },
        "id": "HFQCUdlMni91",
        "outputId": "91cd0a14-7dc6-4731-88a1-a19a3ad4af7a"
      },
      "execution_count": 59,
      "outputs": [
        {
          "output_type": "display_data",
          "data": {
            "text/plain": [
              "<Figure size 800x500 with 1 Axes>"
            ],
            "image/png": "[encoded data removed]"
          },
          "metadata": {}
        }
      ]
    },
    {
      "cell_type": "code",
      "source": [
        "import matplotlib.pyplot as plt\n",
        "import pandas as pd\n",
        "dff = pd.read_csv('my_dataset.csv')\n",
        "df = dff.copy()\n",
        "dfff = df.dropna()\n",
        "df['CITY'] = df['CITY'].str.title()\n",
        "df['EMAIL'] = df['EMAIL'].str.lower()\n",
        "df = df[df['AGE'] > 0]\n",
        "df['SCORE'] = pd.to_numeric(df['SCORE'], errors='coerce')  # Converts to numbers, replaces invalids with NaN\n",
        "df = df[df['SCORE'] <= 100]\n",
        "plt.figure(figsize=(8, 5))\n",
        "plt.bar(df['NAME'], df['SCORE'], color='red')\n",
        "plt.title('Score Distribution')\n",
        "plt.xlabel('Score')\n",
        "plt.ylabel('Frequency')\n",
        "plt.grid(True)\n",
        "plt.show()"
      ],
      "metadata": {
        "colab": {
          "base_uri": "https://localhost:8080/",
          "height": 487
        },
        "id": "9t_gPhvJn-fd",
        "outputId": "668c2351-fff8-4e23-d6dd-fffe44ce214b"
      },
      "execution_count": 61,
      "outputs": [
        {
          "output_type": "display_data",
          "data": {
            "text/plain": [
              "<Figure size 800x500 with 1 Axes>"
            ],
            "image/png": "[encoded data removed]"
          },
          "metadata": {}
        }
      ]
    }
  ]
}